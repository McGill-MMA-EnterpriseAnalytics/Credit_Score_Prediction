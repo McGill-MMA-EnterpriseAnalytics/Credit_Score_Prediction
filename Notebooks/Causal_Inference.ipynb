{
 "cells": [
  {
   "cell_type": "code",
   "execution_count": null,
   "metadata": {},
   "outputs": [],
   "source": [
    "import pandas as pd\n",
    "import matplotlib\n",
    "import numpy as np\n",
    "from sklearn.preprocessing import StandardScaler, OneHotEncoder, LabelEncoder\n",
    "from sklearn.compose import ColumnTransformer"
   ]
  },
  {
   "cell_type": "markdown",
   "metadata": {},
   "source": [
    "Problem Framing:"
   ]
  },
  {
   "cell_type": "markdown",
   "metadata": {},
   "source": [
    "**Input from Feauture Importance**\n",
    "\n",
    "Selected Features: ['num__Outstanding_Debt', 'num__Credit_Utilization_Ratio']\n",
    "\n",
    "Also, Random Forest feauture importance\n",
    "num__Outstanding_Debt             0.107338\n",
    "num__Interest_Rate                0.087533\n",
    "num__Delay_from_due_date          0.050210\n",
    "\n",
    "Feauture Importance from Lasso CV:\n",
    "num__Num_of_Delayed_Payment       0.124748\n",
    "num__Num_Bank_Accounts            0.039877\n",
    "num__Monthly_Inhand_Salary_log    0.039418"
   ]
  },
  {
   "cell_type": "markdown",
   "metadata": {},
   "source": [
    "## **Causal Inference Model Description: Option1**\n",
    "\n",
    "**Treatment Variable:** Num_1.Bank_Accounts, Num_Credit_Card\n",
    "\n",
    "**Outcome Variable:** Credit Score : Good, Standard, Poor.\n",
    "\n",
    "**Control Variables:** User attributes (Income, Occupation, Age, Outstanding_Debt) and payment attributes : \n",
    "\n",
    "Outcome Variable: Credit_Score / Treatment Variables: Num_1.Bank_Accounts, Num_Credit_Card or 2. Num_of_Delayed_Payment 3. Amount_invested_monthly"
   ]
  }
 ],
 "metadata": {
  "language_info": {
   "name": "python"
  }
 },
 "nbformat": 4,
 "nbformat_minor": 2
}
